{
  "nbformat": 4,
  "nbformat_minor": 0,
  "metadata": {
    "colab": {
      "provenance": [],
      "gpuType": "T4",
      "authorship_tag": "ABX9TyMyBnbss/6Q9rj+xQ0PIScH",
      "include_colab_link": true
    },
    "kernelspec": {
      "name": "python3",
      "display_name": "Python 3"
    },
    "language_info": {
      "name": "python"
    },
    "accelerator": "GPU"
  },
  "cells": [
    {
      "cell_type": "markdown",
      "metadata": {
        "id": "view-in-github",
        "colab_type": "text"
      },
      "source": [
        "<a href=\"https://colab.research.google.com/github/MudassirABBASSi/Computer-Vision/blob/main/Yolo_(object_detection_library).ipynb\" target=\"_parent\"><img src=\"https://colab.research.google.com/assets/colab-badge.svg\" alt=\"Open In Colab\"/></a>"
      ]
    },
    {
      "cell_type": "markdown",
      "source": [
        "#Configure API keys\n",
        "To fine-tune YOLO11, you need to provide your Roboflow API key. Follow these steps:\n",
        "\n",
        "Go to your Roboflow Settings page. Click Copy. This will place your private key in the clipboard.\n",
        "In Colab, go to the left pane and click on Secrets (🔑). Store Roboflow API Key under the name ROBOFLOW_API_KEY."
      ],
      "metadata": {
        "id": "x7Bswv2PA_YH"
      }
    },
    {
      "cell_type": "code",
      "source": [
        "!nvidia-smi"
      ],
      "metadata": {
        "colab": {
          "base_uri": "https://localhost:8080/"
        },
        "id": "KVUEzSCuA4YR",
        "outputId": "3a2bae1f-c980-4b7f-fda8-90b5ef192b33"
      },
      "execution_count": 1,
      "outputs": [
        {
          "output_type": "stream",
          "name": "stdout",
          "text": [
            "Tue Mar 11 16:51:16 2025       \n",
            "+-----------------------------------------------------------------------------------------+\n",
            "| NVIDIA-SMI 550.54.15              Driver Version: 550.54.15      CUDA Version: 12.4     |\n",
            "|-----------------------------------------+------------------------+----------------------+\n",
            "| GPU  Name                 Persistence-M | Bus-Id          Disp.A | Volatile Uncorr. ECC |\n",
            "| Fan  Temp   Perf          Pwr:Usage/Cap |           Memory-Usage | GPU-Util  Compute M. |\n",
            "|                                         |                        |               MIG M. |\n",
            "|=========================================+========================+======================|\n",
            "|   0  Tesla T4                       Off |   00000000:00:04.0 Off |                    0 |\n",
            "| N/A   36C    P8              8W /   70W |       0MiB /  15360MiB |      0%      Default |\n",
            "|                                         |                        |                  N/A |\n",
            "+-----------------------------------------+------------------------+----------------------+\n",
            "                                                                                         \n",
            "+-----------------------------------------------------------------------------------------+\n",
            "| Processes:                                                                              |\n",
            "|  GPU   GI   CI        PID   Type   Process name                              GPU Memory |\n",
            "|        ID   ID                                                               Usage      |\n",
            "|=========================================================================================|\n",
            "|  No running processes found                                                             |\n",
            "+-----------------------------------------------------------------------------------------+\n"
          ]
        }
      ]
    },
    {
      "cell_type": "code",
      "source": [
        "import os\n",
        "HOME = os.getcwd()\n",
        "print(HOME)"
      ],
      "metadata": {
        "colab": {
          "base_uri": "https://localhost:8080/"
        },
        "id": "yPUgWII5BFSD",
        "outputId": "f152e1d3-af33-40aa-8ee0-315b4d0ea4a3"
      },
      "execution_count": 2,
      "outputs": [
        {
          "output_type": "stream",
          "name": "stdout",
          "text": [
            "/content\n"
          ]
        }
      ]
    },
    {
      "cell_type": "markdown",
      "source": [
        "# yolo installition"
      ],
      "metadata": {
        "id": "HjgHWYGbCYbx"
      }
    },
    {
      "cell_type": "code",
      "source": [
        "%pip install \"ultralytics<=8.3.40\" supervision roboflow\n",
        "import ultralytics\n",
        "ultralytics.checks()"
      ],
      "metadata": {
        "colab": {
          "base_uri": "https://localhost:8080/"
        },
        "id": "ujaRclHBCVPw",
        "outputId": "6ea90e99-4fff-4208-9d96-8217272ed1d2"
      },
      "execution_count": null,
      "outputs": [
        {
          "output_type": "stream",
          "name": "stdout",
          "text": [
            "Collecting ultralytics<=8.3.40\n",
            "  Downloading ultralytics-8.3.40-py3-none-any.whl.metadata (35 kB)\n"
          ]
        }
      ]
    },
    {
      "cell_type": "markdown",
      "source": [
        "#CLI"
      ],
      "metadata": {
        "id": "q5oO2LWlC1ft"
      }
    },
    {
      "cell_type": "code",
      "source": [
        "!yolo task=detect mode=predict model=yolo11n.pt conf=0.25 source='https://media.roboflow.com/notebooks/examples/dog.jpeg' save=True"
      ],
      "metadata": {
        "id": "2OrcVCq9CX4q"
      },
      "execution_count": null,
      "outputs": []
    },
    {
      "cell_type": "code",
      "source": [
        "from IPython.display import Image as IPyImage\n",
        "IPyImage(filename=f'{HOME}/runs/detect/predict/dog.jpg', width=600)"
      ],
      "metadata": {
        "id": "N0cZpT0hCfen"
      },
      "execution_count": null,
      "outputs": []
    },
    {
      "cell_type": "code",
      "source": [
        "!yolo task=detect mode=predict model=yolo11n.pt conf=0.25 source='/content/ws.jpg' save=True"
      ],
      "metadata": {
        "id": "5hSrCLPsCh3N"
      },
      "execution_count": null,
      "outputs": []
    },
    {
      "cell_type": "code",
      "source": [
        "from IPython.display import Image as IPyImage\n",
        "IPyImage(filename=f'{HOME}/runs/detect/predict2/ws.jpg', width=600)"
      ],
      "metadata": {
        "id": "l45rbU-eC9MM"
      },
      "execution_count": null,
      "outputs": []
    },
    {
      "cell_type": "code",
      "source": [
        "!yolo task=detect mode=predict model=yolo11n.pt conf=0.25 source='/content/images.jpeg' save=True"
      ],
      "metadata": {
        "id": "ekvDVx1GDCZv"
      },
      "execution_count": null,
      "outputs": []
    },
    {
      "cell_type": "code",
      "source": [
        "from IPython.display import Image as IPyImage\n",
        "IPyImage(filename=f'{HOME}/runs/detect/predict3/images.jpg', width=600)"
      ],
      "metadata": {
        "id": "DfS3jxi9DMlq"
      },
      "execution_count": null,
      "outputs": []
    },
    {
      "cell_type": "markdown",
      "source": [
        "# SDK\n",
        "NOTE: YOLO's Python interface allows for seamless integration into your Python projects, making it easy to load, run, and process the model's output."
      ],
      "metadata": {
        "id": "EAsIHntPffCT"
      }
    },
    {
      "cell_type": "markdown",
      "source": [
        "#url uploaded"
      ],
      "metadata": {
        "id": "NjwylxGvSesK"
      }
    },
    {
      "cell_type": "code",
      "source": [
        "from ultralytics import YOLO\n",
        "from PIL import Image\n",
        "import requests\n",
        "\n",
        "model = YOLO('yolo11n.pt')\n",
        "image = Image.open(requests.get('https://media.roboflow.com/notebooks/examples/dog.jpeg', stream=True).raw)\n",
        "result = model.predict(image, conf=0.25)[0]\n",
        "import supervision as sv\n",
        "\n",
        "detections = sv.Detections.from_ultralytics(result)\n",
        "\n",
        "\n",
        "box_annotator = sv.BoxAnnotator()\n",
        "label_annotator = sv.LabelAnnotator(text_color=sv.Color.BLACK)\n",
        "\n",
        "annotated_image = image.copy()\n",
        "annotated_image = box_annotator.annotate(annotated_image, detections=detections)\n",
        "annotated_image = label_annotator.annotate(annotated_image, detections=detections)\n",
        "\n",
        "sv.plot_image(annotated_image, size=(10, 10))"
      ],
      "metadata": {
        "id": "2rBLUtbV77Ii"
      },
      "execution_count": null,
      "outputs": []
    },
    {
      "cell_type": "markdown",
      "source": [
        "# upload pic"
      ],
      "metadata": {
        "id": "mDxaHiDCSbHR"
      }
    },
    {
      "cell_type": "code",
      "source": [
        "import os\n",
        "from PIL import Image\n",
        "import requests\n",
        "from ultralytics import YOLO\n",
        "import supervision as sv\n",
        "\n",
        "# Load the pretrained YOLO model\n",
        "model = YOLO(\"yolo11m.pt\")  # Ensure the model file exists in your working directory\n",
        "\n",
        "try:\n",
        "    # Define the image path (can be a local file path or a full URL)\n",
        "    image_path = '/content/images.jpeg'  # Replace with a full URL if it's remote, e.g., 'https://example.com/ws.jpg'\n",
        "\n",
        "    # Check if the image_path is a URL (starts with http:// or https://)\n",
        "    if image_path.startswith(\"http://\") or image_path.startswith(\"https://\"):\n",
        "        image = Image.open(requests.get(image_path, stream=True).raw)\n",
        "    else:\n",
        "        image = Image.open(image_path)\n",
        "\n",
        "    # Perform object detection and save results\n",
        "    results = model.predict(source=image, save=True)\n",
        "    result = results[0]\n",
        "\n",
        "    # Convert the model output to a format suitable for annotation\n",
        "    detections = sv.Detections.from_ultralytics(result)\n",
        "\n",
        "    # Set up annotators for bounding boxes and labels\n",
        "    box_annotator = sv.BoxAnnotator()\n",
        "    label_annotator = sv.LabelAnnotator(text_color=sv.Color.BLACK)\n",
        "\n",
        "    # Annotate the image\n",
        "    annotated_image = image.copy()\n",
        "    annotated_image = box_annotator.annotate(annotated_image, detections=detections)\n",
        "    annotated_image = label_annotator.annotate(annotated_image, detections=detections)\n",
        "\n",
        "    # Display the annotated image\n",
        "    sv.plot_image(annotated_image, size=(5, 10))\n",
        "\n",
        "except Exception as e:\n",
        "    print(f\"An error occurred: {e}\")\n"
      ],
      "metadata": {
        "id": "ih5VqK7kQfg5"
      },
      "execution_count": null,
      "outputs": []
    },
    {
      "cell_type": "markdown",
      "source": [
        "# accapting the image from the user personal computer"
      ],
      "metadata": {
        "id": "MxmeTVLsgWvH"
      }
    },
    {
      "cell_type": "code",
      "source": [
        "import io\n",
        "from PIL import Image\n",
        "from ultralytics import YOLO\n",
        "import supervision as sv\n",
        "import ipywidgets as widgets\n",
        "from IPython.display import display\n",
        "\n",
        "def run_detection(image):\n",
        "    # Load the pretrained YOLO model (ensure \"yolo11m.pt\" is in your working directory)\n",
        "    model = YOLO(\"yolo11m.pt\")\n",
        "\n",
        "    try:\n",
        "        # Run object detection on the provided PIL Image\n",
        "        results = model.predict(source=image, save=True)\n",
        "        result = results[0]\n",
        "\n",
        "        # Convert model output to a format suitable for annotation\n",
        "        detections = sv.Detections.from_ultralytics(result)\n",
        "\n",
        "        # Annotate the image with bounding boxes and labels\n",
        "        box_annotator = sv.BoxAnnotator()\n",
        "        label_annotator = sv.LabelAnnotator(text_color=sv.Color.BLACK)\n",
        "        annotated_image = image.copy()\n",
        "        annotated_image = box_annotator.annotate(annotated_image, detections=detections)\n",
        "        annotated_image = label_annotator.annotate(annotated_image, detections=detections)\n",
        "\n",
        "        # Display the annotated image\n",
        "        sv.plot_image(annotated_image, size=(5, 10))\n",
        "\n",
        "    except Exception as e:\n",
        "        print(f\"Error during detection: {e}\")\n",
        "\n",
        "# Create a file upload widget that accepts image files\n",
        "upload_widget = widgets.FileUpload(accept='image/*', multiple=False)\n",
        "display(upload_widget)\n",
        "\n",
        "def on_upload_change(change):\n",
        "    if upload_widget.value:\n",
        "        # Get the first uploaded file's content as bytes\n",
        "        uploaded_file = next(iter(upload_widget.value.values()))\n",
        "        content = uploaded_file['content']\n",
        "        # Convert bytes data to a PIL Image\n",
        "        image = Image.open(io.BytesIO(content))\n",
        "        # Run detection on the uploaded image\n",
        "        run_detection(image)\n",
        "\n",
        "# Observe changes to the upload widget's value\n",
        "upload_widget.observe(on_upload_change, names='value')\n"
      ],
      "metadata": {
        "id": "UqMRTGpZZ0LJ"
      },
      "execution_count": null,
      "outputs": []
    },
    {
      "cell_type": "markdown",
      "source": [
        "# fine tunning"
      ],
      "metadata": {
        "id": "fjK2FQEQTMuG"
      }
    },
    {
      "cell_type": "code",
      "source": [
        "!mkdir {HOME}/datasets\n",
        "%cd {HOME}/datasets\n",
        "\n",
        "from google.colab import userdata\n",
        "from roboflow import Roboflow\n",
        "\n",
        "ROBOFLOW_API_KEY = userdata.get('ROBOFLOW_API_KEY')\n",
        "rf = Roboflow(api_key=ROBOFLOW_API_KEY)\n",
        "\n",
        "workspace = rf.workspace(\"liangdianzhong\")\n",
        "project = workspace.project(\"-qvdww\")\n",
        "version = project.version(3)\n",
        "dataset = version.download(\"yolov11\")"
      ],
      "metadata": {
        "id": "ulVAK-J3RqfM"
      },
      "execution_count": null,
      "outputs": []
    },
    {
      "cell_type": "code",
      "source": [
        "%cd {HOME}\n",
        "\n",
        "!yolo task=detect mode=train model=yolo11s.pt data={dataset.location}/data.yaml epochs=10 imgsz=640 plots=True"
      ],
      "metadata": {
        "id": "QOEVD0h0TQfD"
      },
      "execution_count": null,
      "outputs": []
    },
    {
      "cell_type": "code",
      "source": [
        "!ls {HOME}/runs/detect/train/"
      ],
      "metadata": {
        "id": "d1EyTecSTSOa"
      },
      "execution_count": null,
      "outputs": []
    },
    {
      "cell_type": "code",
      "source": [
        "from IPython.display import Image as IPyImage\n",
        "\n",
        "IPyImage(filename=f'{HOME}/runs/detect/train/confusion_matrix.png', width=600)"
      ],
      "metadata": {
        "id": "hCGHnnBtTVOT"
      },
      "execution_count": null,
      "outputs": []
    },
    {
      "cell_type": "code",
      "source": [],
      "metadata": {
        "id": "TjxgACJ2Piie"
      },
      "execution_count": null,
      "outputs": []
    }
  ]
}