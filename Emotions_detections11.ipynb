{
  "metadata": {
    "kernelspec": {
      "display_name": "Python 3",
      "language": "python",
      "name": "python3"
    },
    "language_info": {
      "codemirror_mode": {
        "name": "ipython",
        "version": 3
      },
      "file_extension": ".py",
      "mimetype": "text/x-python",
      "name": "python",
      "nbconvert_exporter": "python",
      "pygments_lexer": "ipython3",
      "version": "3.11.13"
    },
    "accelerator": "GPU",
    "colab": {
      "gpuType": "T4",
      "provenance": [],
      "name": "Emotions-detections11",
      "include_colab_link": true
    },
    "kaggle": {
      "accelerator": "nvidiaTeslaT4",
      "dataSources": [
        {
          "sourceId": 1732825,
          "sourceType": "datasetVersion",
          "datasetId": 1028436
        }
      ],
      "dockerImageVersionId": 31153,
      "isInternetEnabled": true,
      "language": "python",
      "sourceType": "notebook",
      "isGpuEnabled": true
    }
  },
  "nbformat_minor": 0,
  "nbformat": 4,
  "cells": [
    {
      "cell_type": "markdown",
      "metadata": {
        "id": "view-in-github",
        "colab_type": "text"
      },
      "source": [
        "<a href=\"https://colab.research.google.com/github/MudassirABBASSi/Computer-Vision/blob/main/Emotions_detections11.ipynb\" target=\"_parent\"><img src=\"https://colab.research.google.com/assets/colab-badge.svg\" alt=\"Open In Colab\"/></a>"
      ]
    },
    {
      "cell_type": "markdown",
      "source": [
        "# Importing the library"
      ],
      "metadata": {
        "id": "FvejX0S_QxAV"
      }
    },
    {
      "cell_type": "code",
      "source": [
        "import tensorflow as tf\n",
        "from tensorflow.keras import models,layers\n",
        "import matplotlib.pyplot as plt\n",
        "import numpy as np\n"
      ],
      "metadata": {
        "execution": {
          "iopub.status.busy": "2025-10-22T19:07:05.19635Z",
          "iopub.execute_input": "2025-10-22T19:07:05.196844Z",
          "iopub.status.idle": "2025-10-22T19:07:18.047797Z",
          "shell.execute_reply.started": "2025-10-22T19:07:05.196825Z",
          "shell.execute_reply": "2025-10-22T19:07:18.047212Z"
        },
        "id": "zTLaGmbDE8mY",
        "trusted": true
      },
      "outputs": [],
      "execution_count": 4
    },
    {
      "cell_type": "markdown",
      "source": [
        "# Loading the dataset"
      ],
      "metadata": {
        "id": "hgi0ZSmyI47P"
      }
    },
    {
      "cell_type": "code",
      "source": [
        "Train_data = tf.keras.utils.image_dataset_from_directory(\n",
        "    directory='/kaggle/input/emotion-detection-fer/train',\n",
        "    labels='inferred',\n",
        "    label_mode='int',\n",
        "    image_size=(256, 256),\n",
        "    interpolation='nearest',\n",
        "    batch_size=32,\n",
        "    shuffle=True\n",
        ")"
      ],
      "metadata": {
        "colab": {
          "base_uri": "https://localhost:8080/"
        },
        "execution": {
          "iopub.status.busy": "2025-10-22T19:07:18.049052Z",
          "iopub.execute_input": "2025-10-22T19:07:18.049511Z",
          "iopub.status.idle": "2025-10-22T19:07:47.545262Z",
          "shell.execute_reply.started": "2025-10-22T19:07:18.049492Z",
          "shell.execute_reply": "2025-10-22T19:07:47.544669Z"
        },
        "id": "I5SP7Mm6G3Kp",
        "outputId": "8f42f0f6-d18c-42bd-d801-0a52556663a7",
        "trusted": true
      },
      "outputs": [
        {
          "name": "stdout",
          "text": "Found 28709 files belonging to 7 classes.\n",
          "output_type": "stream"
        },
        {
          "name": "stderr",
          "text": "I0000 00:00:1761160066.011722      37 gpu_device.cc:2022] Created device /job:localhost/replica:0/task:0/device:GPU:0 with 15513 MB memory:  -> device: 0, name: Tesla P100-PCIE-16GB, pci bus id: 0000:00:04.0, compute capability: 6.0\n",
          "output_type": "stream"
        }
      ],
      "execution_count": null
    },
    {
      "cell_type": "code",
      "source": [
        "Test_data = tf.keras.utils.image_dataset_from_directory(\n",
        "    directory='/kaggle/input/emotion-detection-fer/test',\n",
        "    labels='inferred',\n",
        "    label_mode='int',\n",
        "    image_size=(256, 256),\n",
        "    interpolation='nearest',\n",
        "    batch_size=32,\n",
        "    shuffle=False # Usually shuffle is not needed for test data\n",
        ")"
      ],
      "metadata": {
        "colab": {
          "base_uri": "https://localhost:8080/"
        },
        "execution": {
          "iopub.status.busy": "2025-10-22T19:07:47.545934Z",
          "iopub.execute_input": "2025-10-22T19:07:47.546197Z",
          "iopub.status.idle": "2025-10-22T19:07:54.603386Z",
          "shell.execute_reply.started": "2025-10-22T19:07:47.546176Z",
          "shell.execute_reply": "2025-10-22T19:07:54.60273Z"
        },
        "id": "65e840db",
        "outputId": "63fbfa23-3b0e-42c2-c809-97df70f4a83a",
        "trusted": true
      },
      "outputs": [
        {
          "name": "stdout",
          "text": "Found 7178 files belonging to 7 classes.\n",
          "output_type": "stream"
        }
      ],
      "execution_count": null
    },
    {
      "cell_type": "code",
      "source": [
        "class_name = Train_data.class_names\n",
        "class_name"
      ],
      "metadata": {
        "colab": {
          "base_uri": "https://localhost:8080/"
        },
        "execution": {
          "iopub.status.busy": "2025-10-22T19:07:54.604068Z",
          "iopub.execute_input": "2025-10-22T19:07:54.604275Z",
          "iopub.status.idle": "2025-10-22T19:07:54.609787Z",
          "shell.execute_reply.started": "2025-10-22T19:07:54.604259Z",
          "shell.execute_reply": "2025-10-22T19:07:54.609236Z"
        },
        "id": "eehjscqvGnwD",
        "outputId": "38a36de8-be94-4b99-efde-8b0fd564e91e",
        "trusted": true
      },
      "outputs": [
        {
          "execution_count": 4,
          "output_type": "execute_result",
          "data": {
            "text/plain": "['angry', 'disgusted', 'fearful', 'happy', 'neutral', 'sad', 'surprised']"
          },
          "metadata": {}
        }
      ],
      "execution_count": null
    },
    {
      "cell_type": "code",
      "source": [
        "len(Train_data )"
      ],
      "metadata": {
        "colab": {
          "base_uri": "https://localhost:8080/"
        },
        "execution": {
          "iopub.status.busy": "2025-10-22T19:07:54.611753Z",
          "iopub.execute_input": "2025-10-22T19:07:54.611955Z",
          "iopub.status.idle": "2025-10-22T19:07:54.625264Z",
          "shell.execute_reply.started": "2025-10-22T19:07:54.61194Z",
          "shell.execute_reply": "2025-10-22T19:07:54.624502Z"
        },
        "id": "qd5EmB0yJErl",
        "outputId": "6a89e088-2a46-45a8-8525-40dbc8324dc7",
        "trusted": true
      },
      "outputs": [
        {
          "execution_count": 5,
          "output_type": "execute_result",
          "data": {
            "text/plain": "898"
          },
          "metadata": {}
        }
      ],
      "execution_count": null
    },
    {
      "cell_type": "code",
      "source": [
        "len(Test_data)"
      ],
      "metadata": {
        "execution": {
          "iopub.status.busy": "2025-10-22T19:07:54.62604Z",
          "iopub.execute_input": "2025-10-22T19:07:54.626275Z",
          "iopub.status.idle": "2025-10-22T19:07:54.639547Z",
          "shell.execute_reply.started": "2025-10-22T19:07:54.62626Z",
          "shell.execute_reply": "2025-10-22T19:07:54.638866Z"
        },
        "trusted": true,
        "id": "gnAuw9VmD2FC",
        "outputId": "cd6810b8-a1af-49b9-8253-999e4b200654"
      },
      "outputs": [
        {
          "execution_count": 6,
          "output_type": "execute_result",
          "data": {
            "text/plain": "225"
          },
          "metadata": {}
        }
      ],
      "execution_count": null
    },
    {
      "cell_type": "markdown",
      "source": [
        "# Checking the Size Of Image"
      ],
      "metadata": {
        "id": "ZGVzkbR1KzjT"
      }
    },
    {
      "cell_type": "code",
      "source": [
        "for image_batch,label_batch in Train_data .take(1):\n",
        "  print(image_batch.shape)\n",
        "  print(label_batch[0].numpy())"
      ],
      "metadata": {
        "colab": {
          "base_uri": "https://localhost:8080/"
        },
        "execution": {
          "iopub.status.busy": "2025-10-22T19:07:54.640303Z",
          "iopub.execute_input": "2025-10-22T19:07:54.640492Z",
          "iopub.status.idle": "2025-10-22T19:07:54.791843Z",
          "shell.execute_reply.started": "2025-10-22T19:07:54.640478Z",
          "shell.execute_reply": "2025-10-22T19:07:54.790958Z"
        },
        "id": "BjNFFL39J9tE",
        "outputId": "6c2420d8-07ab-41af-d1e7-b99cb9e3af0b",
        "trusted": true
      },
      "outputs": [
        {
          "name": "stdout",
          "text": "(32, 256, 256, 3)\n4\n",
          "output_type": "stream"
        }
      ],
      "execution_count": null
    },
    {
      "cell_type": "code",
      "source": [
        "for image_size,label in Train_data .take(1):\n",
        "  print(image_size)"
      ],
      "metadata": {
        "colab": {
          "base_uri": "https://localhost:8080/"
        },
        "execution": {
          "iopub.status.busy": "2025-10-22T19:07:54.792639Z",
          "iopub.execute_input": "2025-10-22T19:07:54.792959Z",
          "iopub.status.idle": "2025-10-22T19:07:54.870856Z",
          "shell.execute_reply.started": "2025-10-22T19:07:54.79294Z",
          "shell.execute_reply": "2025-10-22T19:07:54.870198Z"
        },
        "id": "ZloRjhEbJ9pj",
        "outputId": "9ece70f2-bc28-4da3-f7f3-9192fd9e38de",
        "trusted": true
      },
      "outputs": [
        {
          "name": "stdout",
          "text": "tf.Tensor(\n[[[[185 185 185]\n   [185 185 185]\n   [185 185 185]\n   ...\n   [182 182 182]\n   [182 182 182]\n   [182 182 182]]\n\n  [[185 185 185]\n   [185 185 185]\n   [185 185 185]\n   ...\n   [182 182 182]\n   [182 182 182]\n   [182 182 182]]\n\n  [[185 185 185]\n   [185 185 185]\n   [185 185 185]\n   ...\n   [182 182 182]\n   [182 182 182]\n   [182 182 182]]\n\n  ...\n\n  [[ 37  37  37]\n   [ 37  37  37]\n   [ 37  37  37]\n   ...\n   [ 34  34  34]\n   [ 34  34  34]\n   [ 34  34  34]]\n\n  [[ 37  37  37]\n   [ 37  37  37]\n   [ 37  37  37]\n   ...\n   [ 34  34  34]\n   [ 34  34  34]\n   [ 34  34  34]]\n\n  [[ 37  37  37]\n   [ 37  37  37]\n   [ 37  37  37]\n   ...\n   [ 34  34  34]\n   [ 34  34  34]\n   [ 34  34  34]]]\n\n\n [[[ 97  97  97]\n   [ 97  97  97]\n   [ 97  97  97]\n   ...\n   [114 114 114]\n   [114 114 114]\n   [114 114 114]]\n\n  [[ 97  97  97]\n   [ 97  97  97]\n   [ 97  97  97]\n   ...\n   [114 114 114]\n   [114 114 114]\n   [114 114 114]]\n\n  [[ 97  97  97]\n   [ 97  97  97]\n   [ 97  97  97]\n   ...\n   [114 114 114]\n   [114 114 114]\n   [114 114 114]]\n\n  ...\n\n  [[178 178 178]\n   [178 178 178]\n   [178 178 178]\n   ...\n   [176 176 176]\n   [176 176 176]\n   [176 176 176]]\n\n  [[178 178 178]\n   [178 178 178]\n   [178 178 178]\n   ...\n   [176 176 176]\n   [176 176 176]\n   [176 176 176]]\n\n  [[178 178 178]\n   [178 178 178]\n   [178 178 178]\n   ...\n   [176 176 176]\n   [176 176 176]\n   [176 176 176]]]\n\n\n [[[ 69  69  69]\n   [ 69  69  69]\n   [ 69  69  69]\n   ...\n   [108 108 108]\n   [108 108 108]\n   [108 108 108]]\n\n  [[ 69  69  69]\n   [ 69  69  69]\n   [ 69  69  69]\n   ...\n   [108 108 108]\n   [108 108 108]\n   [108 108 108]]\n\n  [[ 69  69  69]\n   [ 69  69  69]\n   [ 69  69  69]\n   ...\n   [108 108 108]\n   [108 108 108]\n   [108 108 108]]\n\n  ...\n\n  [[154 154 154]\n   [154 154 154]\n   [154 154 154]\n   ...\n   [158 158 158]\n   [158 158 158]\n   [158 158 158]]\n\n  [[154 154 154]\n   [154 154 154]\n   [154 154 154]\n   ...\n   [158 158 158]\n   [158 158 158]\n   [158 158 158]]\n\n  [[154 154 154]\n   [154 154 154]\n   [154 154 154]\n   ...\n   [158 158 158]\n   [158 158 158]\n   [158 158 158]]]\n\n\n ...\n\n\n [[[ 29  29  29]\n   [ 29  29  29]\n   [ 29  29  29]\n   ...\n   [ 33  33  33]\n   [ 33  33  33]\n   [ 33  33  33]]\n\n  [[ 29  29  29]\n   [ 29  29  29]\n   [ 29  29  29]\n   ...\n   [ 33  33  33]\n   [ 33  33  33]\n   [ 33  33  33]]\n\n  [[ 29  29  29]\n   [ 29  29  29]\n   [ 29  29  29]\n   ...\n   [ 33  33  33]\n   [ 33  33  33]\n   [ 33  33  33]]\n\n  ...\n\n  [[ 69  69  69]\n   [ 69  69  69]\n   [ 69  69  69]\n   ...\n   [177 177 177]\n   [177 177 177]\n   [177 177 177]]\n\n  [[ 69  69  69]\n   [ 69  69  69]\n   [ 69  69  69]\n   ...\n   [177 177 177]\n   [177 177 177]\n   [177 177 177]]\n\n  [[ 69  69  69]\n   [ 69  69  69]\n   [ 69  69  69]\n   ...\n   [177 177 177]\n   [177 177 177]\n   [177 177 177]]]\n\n\n [[[  0   0   0]\n   [  0   0   0]\n   [  0   0   0]\n   ...\n   [158 158 158]\n   [158 158 158]\n   [158 158 158]]\n\n  [[  0   0   0]\n   [  0   0   0]\n   [  0   0   0]\n   ...\n   [158 158 158]\n   [158 158 158]\n   [158 158 158]]\n\n  [[  0   0   0]\n   [  0   0   0]\n   [  0   0   0]\n   ...\n   [158 158 158]\n   [158 158 158]\n   [158 158 158]]\n\n  ...\n\n  [[ 53  53  53]\n   [ 53  53  53]\n   [ 53  53  53]\n   ...\n   [  0   0   0]\n   [  0   0   0]\n   [  0   0   0]]\n\n  [[ 53  53  53]\n   [ 53  53  53]\n   [ 53  53  53]\n   ...\n   [  0   0   0]\n   [  0   0   0]\n   [  0   0   0]]\n\n  [[ 53  53  53]\n   [ 53  53  53]\n   [ 53  53  53]\n   ...\n   [  0   0   0]\n   [  0   0   0]\n   [  0   0   0]]]\n\n\n [[[122 122 122]\n   [122 122 122]\n   [122 122 122]\n   ...\n   [169 169 169]\n   [169 169 169]\n   [169 169 169]]\n\n  [[122 122 122]\n   [122 122 122]\n   [122 122 122]\n   ...\n   [169 169 169]\n   [169 169 169]\n   [169 169 169]]\n\n  [[122 122 122]\n   [122 122 122]\n   [122 122 122]\n   ...\n   [169 169 169]\n   [169 169 169]\n   [169 169 169]]\n\n  ...\n\n  [[195 195 195]\n   [195 195 195]\n   [195 195 195]\n   ...\n   [182 182 182]\n   [182 182 182]\n   [182 182 182]]\n\n  [[195 195 195]\n   [195 195 195]\n   [195 195 195]\n   ...\n   [182 182 182]\n   [182 182 182]\n   [182 182 182]]\n\n  [[195 195 195]\n   [195 195 195]\n   [195 195 195]\n   ...\n   [182 182 182]\n   [182 182 182]\n   [182 182 182]]]], shape=(32, 256, 256, 3), dtype=uint8)\n",
          "output_type": "stream"
        }
      ],
      "execution_count": null
    },
    {
      "cell_type": "markdown",
      "source": [
        "# View Image"
      ],
      "metadata": {
        "id": "_icYKMOdLmS_"
      }
    },
    {
      "cell_type": "code",
      "source": [
        "for image_batch,label in Train_data .take(1):\n",
        "  plt.imshow(image_batch[0].numpy().astype('uint8'))\n",
        "  plt.title(class_name[label[0]])\n"
      ],
      "metadata": {
        "colab": {
          "base_uri": "https://localhost:8080/",
          "height": 452
        },
        "execution": {
          "iopub.status.busy": "2025-10-22T19:07:54.871639Z",
          "iopub.execute_input": "2025-10-22T19:07:54.871881Z",
          "iopub.status.idle": "2025-10-22T19:07:55.237747Z",
          "shell.execute_reply.started": "2025-10-22T19:07:54.871864Z",
          "shell.execute_reply": "2025-10-22T19:07:55.236934Z"
        },
        "id": "pPnMDkOIJ9mm",
        "outputId": "07e5d4eb-6f12-41cb-988e-d815d0999c4d",
        "trusted": true
      },
      "outputs": [
        {
          "output_type": "display_data",
          "data": {
            "text/plain": "<Figure size 640x480 with 1 Axes>",
            "image/png": "[encoded data removed]"
          },
          "metadata": {}
        }
      ],
      "execution_count": null
    },
    {
      "cell_type": "markdown",
      "source": [
        "# Spliting the model\n",
        "test dataset will be for testing and the data veriabe converted in to train and validate data set\n",
        "80% train and 20% validate"
      ],
      "metadata": {
        "id": "ejG2OBY0MTTm"
      }
    },
    {
      "cell_type": "code",
      "source": [
        "len(Train_data )"
      ],
      "metadata": {
        "colab": {
          "base_uri": "https://localhost:8080/"
        },
        "execution": {
          "iopub.status.busy": "2025-10-22T19:07:55.238601Z",
          "iopub.execute_input": "2025-10-22T19:07:55.238935Z",
          "iopub.status.idle": "2025-10-22T19:07:55.243816Z",
          "shell.execute_reply.started": "2025-10-22T19:07:55.238911Z",
          "shell.execute_reply": "2025-10-22T19:07:55.243238Z"
        },
        "id": "D_Z9b23MOocW",
        "outputId": "1f6da42f-55fa-463c-91c4-4917a465170a",
        "trusted": true
      },
      "outputs": [
        {
          "execution_count": 10,
          "output_type": "execute_result",
          "data": {
            "text/plain": "898"
          },
          "metadata": {}
        }
      ],
      "execution_count": null
    },
    {
      "cell_type": "code",
      "source": [
        "899-718"
      ],
      "metadata": {
        "colab": {
          "base_uri": "https://localhost:8080/"
        },
        "execution": {
          "iopub.status.busy": "2025-10-22T19:07:55.244411Z",
          "iopub.execute_input": "2025-10-22T19:07:55.244603Z",
          "iopub.status.idle": "2025-10-22T19:07:55.258329Z",
          "shell.execute_reply.started": "2025-10-22T19:07:55.244579Z",
          "shell.execute_reply": "2025-10-22T19:07:55.25774Z"
        },
        "id": "_Xorb3ufO6N-",
        "outputId": "6bf1d257-42e6-4969-d2d5-c86407fb3010",
        "trusted": true
      },
      "outputs": [
        {
          "execution_count": 11,
          "output_type": "execute_result",
          "data": {
            "text/plain": "181"
          },
          "metadata": {}
        }
      ],
      "execution_count": null
    },
    {
      "cell_type": "markdown",
      "source": [
        "# train dataSet"
      ],
      "metadata": {
        "id": "_3TSclqJNuhu"
      }
    },
    {
      "cell_type": "code",
      "source": [
        "train_size = 0.8\n",
        "len(Train_data )*train_size\n",
        "train_ds = Train_data .take(718)"
      ],
      "metadata": {
        "execution": {
          "iopub.status.busy": "2025-10-22T19:07:55.259073Z",
          "iopub.execute_input": "2025-10-22T19:07:55.259318Z",
          "iopub.status.idle": "2025-10-22T19:07:55.272968Z",
          "shell.execute_reply.started": "2025-10-22T19:07:55.259302Z",
          "shell.execute_reply": "2025-10-22T19:07:55.272349Z"
        },
        "id": "kze2JCXIJ9jz",
        "trusted": true
      },
      "outputs": [],
      "execution_count": null
    },
    {
      "cell_type": "code",
      "source": [
        "len(train_ds)"
      ],
      "metadata": {
        "colab": {
          "base_uri": "https://localhost:8080/"
        },
        "execution": {
          "iopub.status.busy": "2025-10-22T19:07:55.273653Z",
          "iopub.execute_input": "2025-10-22T19:07:55.273907Z",
          "iopub.status.idle": "2025-10-22T19:07:55.286835Z",
          "shell.execute_reply.started": "2025-10-22T19:07:55.273886Z",
          "shell.execute_reply": "2025-10-22T19:07:55.286055Z"
        },
        "id": "TdTRtVGhJ9g9",
        "outputId": "0ea77077-da9b-4622-cd26-b6c2ed3c3b21",
        "trusted": true
      },
      "outputs": [
        {
          "execution_count": 13,
          "output_type": "execute_result",
          "data": {
            "text/plain": "718"
          },
          "metadata": {}
        }
      ],
      "execution_count": null
    },
    {
      "cell_type": "markdown",
      "source": [
        "# Test Data Set"
      ],
      "metadata": {
        "id": "254Oy8AbNxEo"
      }
    },
    {
      "cell_type": "code",
      "source": [
        "len(Test_data)"
      ],
      "metadata": {
        "colab": {
          "base_uri": "https://localhost:8080/"
        },
        "execution": {
          "iopub.status.busy": "2025-10-22T19:07:55.289707Z",
          "iopub.execute_input": "2025-10-22T19:07:55.289925Z",
          "iopub.status.idle": "2025-10-22T19:07:55.301884Z",
          "shell.execute_reply.started": "2025-10-22T19:07:55.289909Z",
          "shell.execute_reply": "2025-10-22T19:07:55.301294Z"
        },
        "id": "e1e2zdqMN3O5",
        "outputId": "0698042b-2b3e-48f3-ce4d-28691bbf964c",
        "trusted": true
      },
      "outputs": [
        {
          "execution_count": 14,
          "output_type": "execute_result",
          "data": {
            "text/plain": "225"
          },
          "metadata": {}
        }
      ],
      "execution_count": null
    },
    {
      "cell_type": "code",
      "source": [
        "test_ds = Test_data\n",
        "len(test_ds)"
      ],
      "metadata": {
        "colab": {
          "base_uri": "https://localhost:8080/"
        },
        "execution": {
          "iopub.status.busy": "2025-10-22T19:07:55.302626Z",
          "iopub.execute_input": "2025-10-22T19:07:55.30288Z",
          "iopub.status.idle": "2025-10-22T19:07:55.314635Z",
          "shell.execute_reply.started": "2025-10-22T19:07:55.30286Z",
          "shell.execute_reply": "2025-10-22T19:07:55.314058Z"
        },
        "id": "aZhvKbB4J9ef",
        "outputId": "fb62d60a-2742-4328-c028-38e081066176",
        "trusted": true
      },
      "outputs": [
        {
          "execution_count": 15,
          "output_type": "execute_result",
          "data": {
            "text/plain": "225"
          },
          "metadata": {}
        }
      ],
      "execution_count": null
    },
    {
      "cell_type": "markdown",
      "source": [
        "# Validate Data Set"
      ],
      "metadata": {
        "id": "Sa67MN15OK1E"
      }
    },
    {
      "cell_type": "code",
      "source": [
        "# Correctly split validation data from the end of training data\n",
        "val_ds = Train_data.skip(718)\n",
        "len(val_ds)"
      ],
      "metadata": {
        "colab": {
          "base_uri": "https://localhost:8080/"
        },
        "execution": {
          "iopub.status.busy": "2025-10-22T19:07:55.315237Z",
          "iopub.execute_input": "2025-10-22T19:07:55.315401Z",
          "iopub.status.idle": "2025-10-22T19:07:55.330925Z",
          "shell.execute_reply.started": "2025-10-22T19:07:55.315387Z",
          "shell.execute_reply": "2025-10-22T19:07:55.330376Z"
        },
        "id": "7R4-WGSwM3L1",
        "outputId": "b7071217-5ddb-4e2a-974a-df636aff74d6",
        "trusted": true
      },
      "outputs": [
        {
          "execution_count": 16,
          "output_type": "execute_result",
          "data": {
            "text/plain": "180"
          },
          "metadata": {}
        }
      ],
      "execution_count": null
    },
    {
      "cell_type": "code",
      "source": [
        "print(len(train_ds))\n",
        "print(len(test_ds))\n",
        "print(len(val_ds))"
      ],
      "metadata": {
        "colab": {
          "base_uri": "https://localhost:8080/"
        },
        "execution": {
          "iopub.status.busy": "2025-10-22T19:07:55.331657Z",
          "iopub.execute_input": "2025-10-22T19:07:55.331949Z",
          "iopub.status.idle": "2025-10-22T19:07:55.34081Z",
          "shell.execute_reply.started": "2025-10-22T19:07:55.331933Z",
          "shell.execute_reply": "2025-10-22T19:07:55.340054Z"
        },
        "id": "RJUHUOPWM299",
        "outputId": "85d21203-647c-4b2f-e74a-5e0252676e61",
        "trusted": true
      },
      "outputs": [
        {
          "name": "stdout",
          "text": "718\n225\n180\n",
          "output_type": "stream"
        }
      ],
      "execution_count": null
    },
    {
      "cell_type": "markdown",
      "source": [
        "# Shuffling the data Set"
      ],
      "metadata": {
        "id": "3o-lPNA9PfAo"
      }
    },
    {
      "cell_type": "code",
      "source": [
        "train_ds = train_ds.cache().shuffle(1000).prefetch(buffer_size = tf.data.AUTOTUNE)\n",
        "test_ds = test_ds.cache().prefetch(buffer_size = tf.data.AUTOTUNE)  # No shuffle for test\n",
        "val_ds = val_ds.cache().prefetch(buffer_size = tf.data.AUTOTUNE)"
      ],
      "metadata": {
        "execution": {
          "iopub.status.busy": "2025-10-22T19:07:55.341548Z",
          "iopub.execute_input": "2025-10-22T19:07:55.341713Z",
          "iopub.status.idle": "2025-10-22T19:07:55.366323Z",
          "shell.execute_reply.started": "2025-10-22T19:07:55.3417Z",
          "shell.execute_reply": "2025-10-22T19:07:55.365628Z"
        },
        "id": "8FETFGFlM27Q",
        "trusted": true
      },
      "outputs": [],
      "execution_count": null
    },
    {
      "cell_type": "markdown",
      "source": [
        "# Rescaling the images"
      ],
      "metadata": {
        "id": "Bn3dX1OuPr9k"
      }
    },
    {
      "cell_type": "code",
      "source": [
        "IMAGE_SIZE = 256\n",
        "resize_and_rescale = tf.keras.Sequential([\n",
        "    tf.keras.layers.Resizing(IMAGE_SIZE,IMAGE_SIZE),\n",
        "    tf.keras.layers.Rescaling(1.0/255)\n",
        "]\n",
        ")"
      ],
      "metadata": {
        "execution": {
          "iopub.status.busy": "2025-10-22T19:07:55.367265Z",
          "iopub.execute_input": "2025-10-22T19:07:55.367523Z",
          "iopub.status.idle": "2025-10-22T19:07:55.373668Z",
          "shell.execute_reply.started": "2025-10-22T19:07:55.367499Z",
          "shell.execute_reply": "2025-10-22T19:07:55.373045Z"
        },
        "id": "jq6hYJrZM23p",
        "trusted": true
      },
      "outputs": [],
      "execution_count": null
    },
    {
      "cell_type": "markdown",
      "source": [
        "# Data Augmented"
      ],
      "metadata": {
        "id": "sQkW6S01PwPz"
      }
    },
    {
      "cell_type": "code",
      "source": [
        "data_augmnet = tf.keras.Sequential([\n",
        "    tf.keras.layers.RandomFlip(\"horizontal\"),  # Only horizontal for faces\n",
        "    tf.keras.layers.RandomRotation(0.1),\n",
        "    tf.keras.layers.RandomZoom(0.1),\n",
        "    tf.keras.layers.RandomContrast(0.2)\n",
        "\n",
        "])"
      ],
      "metadata": {
        "execution": {
          "iopub.status.busy": "2025-10-22T19:07:55.374535Z",
          "iopub.execute_input": "2025-10-22T19:07:55.37477Z",
          "iopub.status.idle": "2025-10-22T19:07:55.402362Z",
          "shell.execute_reply.started": "2025-10-22T19:07:55.374752Z",
          "shell.execute_reply": "2025-10-22T19:07:55.401859Z"
        },
        "id": "mhHIB6MkM2z1",
        "trusted": true
      },
      "outputs": [],
      "execution_count": null
    },
    {
      "cell_type": "markdown",
      "source": [
        "# CNN"
      ],
      "metadata": {
        "id": "QldCByCtQJL9"
      }
    },
    {
      "cell_type": "code",
      "source": [
        "BATCH_SIZE = 32\n",
        "IMAGE_SIZE = 256\n",
        "CHANNELS=3\n",
        "EPOCHS=30  # Increased epochs for initial training\n",
        "input_shape = (BATCH_SIZE, IMAGE_SIZE, IMAGE_SIZE, CHANNELS)\n",
        "n_classes = 7"
      ],
      "metadata": {
        "execution": {
          "iopub.status.busy": "2025-10-22T19:07:55.402951Z",
          "iopub.execute_input": "2025-10-22T19:07:55.403229Z",
          "iopub.status.idle": "2025-10-22T19:07:55.406791Z",
          "shell.execute_reply.started": "2025-10-22T19:07:55.403214Z",
          "shell.execute_reply": "2025-10-22T19:07:55.40606Z"
        },
        "id": "Hg0brGr8QGTA",
        "trusted": true
      },
      "outputs": [],
      "execution_count": null
    },
    {
      "cell_type": "code",
      "source": [
        "import tensorflow as tf\n",
        "\n",
        "gpus = tf.config.list_physical_devices('GPU')\n",
        "if gpus:\n",
        "    try:\n",
        "        for gpu in gpus:\n",
        "            tf.config.experimental.set_memory_growth(gpu, True)\n",
        "        print(\"✅ GPU memory growth enabled\")\n",
        "    except RuntimeError as e:\n",
        "        print(e)\n"
      ],
      "metadata": {
        "trusted": true,
        "execution": {
          "iopub.status.busy": "2025-10-22T19:07:55.407706Z",
          "iopub.execute_input": "2025-10-22T19:07:55.408215Z",
          "iopub.status.idle": "2025-10-22T19:07:55.421635Z",
          "shell.execute_reply.started": "2025-10-22T19:07:55.408191Z",
          "shell.execute_reply": "2025-10-22T19:07:55.42111Z"
        },
        "id": "JsDGgQsAD2FT",
        "outputId": "96b3165f-1672-4f35-a91e-f76fa2dd182d"
      },
      "outputs": [
        {
          "name": "stdout",
          "text": "Physical devices cannot be modified after being initialized\n",
          "output_type": "stream"
        }
      ],
      "execution_count": null
    },
    {
      "cell_type": "code",
      "source": [
        "import tensorflow as tf\n",
        "from tensorflow.keras import layers, models\n",
        "from tensorflow.keras.applications import EfficientNetB0\n",
        "from tensorflow.keras.callbacks import EarlyStopping, ReduceLROnPlateau, ModelCheckpoint\n",
        "from tensorflow.keras.optimizers import Adam\n",
        "\n",
        "# # Number of classes in your dataset\n",
        "# n_classes = 7 # change this according to your dataset\n",
        "\n",
        "# ----------------------------\n",
        "# 1️⃣ Preprocessing Layers\n",
        "# ----------------------------\n",
        "# resize_and_rescale = tf.keras.Sequential([\n",
        "#     layers.Resizing(224, 224),\n",
        "#     layers.Rescaling(1./255)\n",
        "# ])\n",
        "\n",
        "# data_augmentation = tf.keras.Sequential([\n",
        "#     layers.RandomFlip(\"horizontal\"),   # Only horizontal for signs\n",
        "#     layers.RandomRotation(0.15),\n",
        "#     layers.RandomZoom(0.1),\n",
        "#     layers.RandomContrast(0.2),\n",
        "# ])\n",
        "\n",
        "# ----------------------------\n",
        "# 2️⃣ Load EfficientNetB0 Base\n",
        "# ----------------------------\n",
        "base_model = EfficientNetB0(\n",
        "    input_shape=(224, 224, 3),\n",
        "    include_top=False,\n",
        "    weights='imagenet'\n",
        ")\n",
        "\n",
        "# Freeze base model initially\n",
        "base_model.trainable = False\n",
        "\n",
        "# ----------------------------\n",
        "# 3️⃣ Build Full Model\n",
        "# ----------------------------\n",
        "model = models.Sequential([\n",
        "    resize_and_rescale,\n",
        "    data_augmentation,\n",
        "    base_model,\n",
        "    layers.GlobalAveragePooling2D(),\n",
        "    layers.BatchNormalization(),\n",
        "    layers.Dense(512, activation='relu'),\n",
        "    layers.Dropout(0.5),\n",
        "    layers.Dense(256, activation='relu'),\n",
        "    layers.Dropout(0.3),\n",
        "    layers.Dense(n_classes, activation='softmax')\n",
        "])\n",
        "\n",
        "# ----------------------------\n",
        "# 4️⃣ Compile Model\n",
        "# ----------------------------\n",
        "model.compile(\n",
        "    optimizer=Adam(learning_rate=0.001),\n",
        "    loss='sparse_categorical_crossentropy',\n",
        "    metrics=['accuracy']\n",
        ")\n",
        "\n",
        "# ----------------------------\n",
        "# 5️⃣ Define Callbacks\n",
        "# ----------------------------\n",
        "callbacks = [\n",
        "    EarlyStopping(\n",
        "        monitor='val_accuracy',\n",
        "        patience=7,\n",
        "        restore_best_weights=True,\n",
        "        verbose=1\n",
        "    ),\n",
        "    ReduceLROnPlateau(\n",
        "        monitor='val_loss',\n",
        "        factor=0.5,\n",
        "        patience=3,\n",
        "        min_lr=1e-7,\n",
        "        verbose=1\n",
        "    ),\n",
        "    ModelCheckpoint(\n",
        "        'best_sign_model.keras',\n",
        "        monitor='val_accuracy',\n",
        "        save_best_only=True,\n",
        "        verbose=1\n",
        "    )\n",
        "]\n",
        "\n",
        "# ----------------------------\n",
        "# 6️⃣ Train the Model\n",
        "# ----------------------------\n",
        "history = model.fit(\n",
        "    train_ds,\n",
        "    validation_data=val_ds,\n",
        "    epochs=30,\n",
        "    callbacks=callbacks,\n",
        "    verbose=1\n",
        ")\n"
      ],
      "metadata": {
        "trusted": true,
        "execution": {
          "iopub.status.busy": "2025-10-22T19:07:55.422341Z",
          "iopub.execute_input": "2025-10-22T19:07:55.422571Z",
          "iopub.status.idle": "2025-10-22T19:15:01.192348Z",
          "shell.execute_reply.started": "2025-10-22T19:07:55.422549Z",
          "shell.execute_reply": "2025-10-22T19:15:01.191778Z"
        },
        "id": "0nnYHb0nD2FU",
        "outputId": "23eb320f-eea3-42ac-ab92-43e029b1e42d"
      },
      "outputs": [
        {
          "name": "stdout",
          "text": "Downloading data from https://storage.googleapis.com/keras-applications/efficientnetb0_notop.h5\n\u001b[1m16705208/16705208\u001b[0m \u001b[32m━━━━━━━━━━━━━━━━━━━━\u001b[0m\u001b[37m\u001b[0m \u001b[1m1s\u001b[0m 0us/step\nEpoch 1/30\n",
          "output_type": "stream"
        },
        {
          "name": "stderr",
          "text": "E0000 00:00:1761160095.338264      37 meta_optimizer.cc:966] layout failed: INVALID_ARGUMENT: Size of values 0 does not match size of permutation 4 @ fanin shape inStatefulPartitionedCall/sequential_4_1/efficientnetb0_1/block2b_drop_1/stateless_dropout/SelectV2-2-TransposeNHWCToNCHW-LayoutOptimizer\nI0000 00:00:1761160143.267470     106 cuda_dnn.cc:529] Loaded cuDNN version 90300\n",
          "output_type": "stream"
        },
        {
          "name": "stdout",
          "text": "\u001b[1m718/718\u001b[0m \u001b[32m━━━━━━━━━━━━━━━━━━━━\u001b[0m\u001b[37m\u001b[0m \u001b[1m0s\u001b[0m 48ms/step - accuracy: 0.1951 - loss: 2.1944\nEpoch 1: val_accuracy improved from -inf to 0.24734, saving model to best_sign_model.keras\n\u001b[1m718/718\u001b[0m \u001b[32m━━━━━━━━━━━━━━━━━━━━\u001b[0m\u001b[37m\u001b[0m \u001b[1m130s\u001b[0m 91ms/step - accuracy: 0.1951 - loss: 2.1941 - val_accuracy: 0.2473 - val_loss: 2.1588 - learning_rate: 0.0010\nEpoch 2/30\n\u001b[1m718/718\u001b[0m \u001b[32m━━━━━━━━━━━━━━━━━━━━\u001b[0m\u001b[37m\u001b[0m \u001b[1m0s\u001b[0m 47ms/step - accuracy: 0.2404 - loss: 1.8379\nEpoch 2: val_accuracy did not improve from 0.24734\n\u001b[1m718/718\u001b[0m \u001b[32m━━━━━━━━━━━━━━━━━━━━\u001b[0m\u001b[37m\u001b[0m \u001b[1m42s\u001b[0m 58ms/step - accuracy: 0.2404 - loss: 1.8379 - val_accuracy: 0.2473 - val_loss: 2.0250 - learning_rate: 0.0010\nEpoch 3/30\n\u001b[1m717/718\u001b[0m \u001b[32m━━━━━━━━━━━━━━━━━━━\u001b[0m\u001b[37m━\u001b[0m \u001b[1m0s\u001b[0m 47ms/step - accuracy: 0.2475 - loss: 1.8270\nEpoch 3: val_accuracy did not improve from 0.24734\n\u001b[1m718/718\u001b[0m \u001b[32m━━━━━━━━━━━━━━━━━━━━\u001b[0m\u001b[37m\u001b[0m \u001b[1m42s\u001b[0m 58ms/step - accuracy: 0.2475 - loss: 1.8270 - val_accuracy: 0.2473 - val_loss: 1.9124 - learning_rate: 0.0010\nEpoch 4/30\n\u001b[1m717/718\u001b[0m \u001b[32m━━━━━━━━━━━━━━━━━━━\u001b[0m\u001b[37m━\u001b[0m \u001b[1m0s\u001b[0m 47ms/step - accuracy: 0.2481 - loss: 1.8264\nEpoch 4: val_accuracy did not improve from 0.24734\n\u001b[1m718/718\u001b[0m \u001b[32m━━━━━━━━━━━━━━━━━━━━\u001b[0m\u001b[37m\u001b[0m \u001b[1m42s\u001b[0m 58ms/step - accuracy: 0.2481 - loss: 1.8264 - val_accuracy: 0.2473 - val_loss: 1.8639 - learning_rate: 0.0010\nEpoch 5/30\n\u001b[1m717/718\u001b[0m \u001b[32m━━━━━━━━━━━━━━━━━━━\u001b[0m\u001b[37m━\u001b[0m \u001b[1m0s\u001b[0m 47ms/step - accuracy: 0.2476 - loss: 1.8290\nEpoch 5: val_accuracy did not improve from 0.24734\n\u001b[1m718/718\u001b[0m \u001b[32m━━━━━━━━━━━━━━━━━━━━\u001b[0m\u001b[37m\u001b[0m \u001b[1m42s\u001b[0m 58ms/step - accuracy: 0.2476 - loss: 1.8290 - val_accuracy: 0.2473 - val_loss: 1.8463 - learning_rate: 0.0010\nEpoch 6/30\n\u001b[1m717/718\u001b[0m \u001b[32m━━━━━━━━━━━━━━━━━━━\u001b[0m\u001b[37m━\u001b[0m \u001b[1m0s\u001b[0m 47ms/step - accuracy: 0.2508 - loss: 1.8233\nEpoch 6: val_accuracy did not improve from 0.24734\n\u001b[1m718/718\u001b[0m \u001b[32m━━━━━━━━━━━━━━━━━━━━\u001b[0m\u001b[37m\u001b[0m \u001b[1m42s\u001b[0m 58ms/step - accuracy: 0.2508 - loss: 1.8233 - val_accuracy: 0.2473 - val_loss: 1.8522 - learning_rate: 0.0010\nEpoch 7/30\n\u001b[1m718/718\u001b[0m \u001b[32m━━━━━━━━━━━━━━━━━━━━\u001b[0m\u001b[37m\u001b[0m \u001b[1m0s\u001b[0m 47ms/step - accuracy: 0.2494 - loss: 1.8254\nEpoch 7: val_accuracy did not improve from 0.24734\n\u001b[1m718/718\u001b[0m \u001b[32m━━━━━━━━━━━━━━━━━━━━\u001b[0m\u001b[37m\u001b[0m \u001b[1m42s\u001b[0m 58ms/step - accuracy: 0.2494 - loss: 1.8254 - val_accuracy: 0.2473 - val_loss: 1.8259 - learning_rate: 0.0010\nEpoch 8/30\n\u001b[1m718/718\u001b[0m \u001b[32m━━━━━━━━━━━━━━━━━━━━\u001b[0m\u001b[37m\u001b[0m \u001b[1m0s\u001b[0m 47ms/step - accuracy: 0.2489 - loss: 1.8245\nEpoch 8: val_accuracy did not improve from 0.24734\n\u001b[1m718/718\u001b[0m \u001b[32m━━━━━━━━━━━━━━━━━━━━\u001b[0m\u001b[37m\u001b[0m \u001b[1m42s\u001b[0m 58ms/step - accuracy: 0.2489 - loss: 1.8245 - val_accuracy: 0.2473 - val_loss: 1.8183 - learning_rate: 0.0010\nEpoch 8: early stopping\nRestoring model weights from the end of the best epoch: 1.\n",
          "output_type": "stream"
        }
      ],
      "execution_count": null
    },
    {
      "cell_type": "code",
      "source": [
        "# Unfreeze top layers of base model\n",
        "base_model.trainable = True\n",
        "\n",
        "# Optionally freeze the first few layers to avoid overfitting\n",
        "for layer in base_model.layers[:-40]:\n",
        "    layer.trainable = False\n",
        "\n",
        "# Compile again with smaller learning rate\n",
        "model.compile(\n",
        "    optimizer=Adam(learning_rate=1e-5),\n",
        "    loss='sparse_categorical_crossentropy',\n",
        "    metrics=['accuracy']\n",
        ")\n",
        "\n",
        "# Fine-tune for 10–20 more epochs\n",
        "fine_tune_history = model.fit(\n",
        "    train_ds,\n",
        "    validation_data=val_ds,\n",
        "    epochs=15,\n",
        "    callbacks=callbacks,\n",
        "    verbose=1\n",
        ")\n"
      ],
      "metadata": {
        "trusted": true,
        "execution": {
          "iopub.status.busy": "2025-10-22T19:15:01.193145Z",
          "iopub.execute_input": "2025-10-22T19:15:01.193382Z",
          "iopub.status.idle": "2025-10-22T19:22:10.964106Z",
          "shell.execute_reply.started": "2025-10-22T19:15:01.193365Z",
          "shell.execute_reply": "2025-10-22T19:22:10.963398Z"
        },
        "id": "q9rQ5XQKD2FW",
        "outputId": "834caee1-6baa-4c5c-c286-9591868b234c"
      },
      "outputs": [
        {
          "name": "stdout",
          "text": "Epoch 1/15\n",
          "output_type": "stream"
        },
        {
          "name": "stderr",
          "text": "E0000 00:00:1761160522.797701      37 meta_optimizer.cc:966] layout failed: INVALID_ARGUMENT: Size of values 0 does not match size of permutation 4 @ fanin shape inStatefulPartitionedCall/sequential_4_1/efficientnetb0_1/block2b_drop_1/stateless_dropout/SelectV2-2-TransposeNHWCToNCHW-LayoutOptimizer\n",
          "output_type": "stream"
        },
        {
          "name": "stdout",
          "text": "\u001b[1m718/718\u001b[0m \u001b[32m━━━━━━━━━━━━━━━━━━━━\u001b[0m\u001b[37m\u001b[0m \u001b[1m0s\u001b[0m 59ms/step - accuracy: 0.2493 - loss: 1.8405\nEpoch 1: val_accuracy did not improve from 0.24734\n\u001b[1m718/718\u001b[0m \u001b[32m━━━━━━━━━━━━━━━━━━━━\u001b[0m\u001b[37m\u001b[0m \u001b[1m77s\u001b[0m 76ms/step - accuracy: 0.2493 - loss: 1.8405 - val_accuracy: 0.2473 - val_loss: 1.8148 - learning_rate: 1.0000e-05\nEpoch 2/15\n\u001b[1m718/718\u001b[0m \u001b[32m━━━━━━━━━━━━━━━━━━━━\u001b[0m\u001b[37m\u001b[0m \u001b[1m0s\u001b[0m 59ms/step - accuracy: 0.2515 - loss: 1.8259\nEpoch 2: val_accuracy did not improve from 0.24734\n\u001b[1m718/718\u001b[0m \u001b[32m━━━━━━━━━━━━━━━━━━━━\u001b[0m\u001b[37m\u001b[0m \u001b[1m50s\u001b[0m 70ms/step - accuracy: 0.2515 - loss: 1.8259 - val_accuracy: 0.2473 - val_loss: 1.8154 - learning_rate: 1.0000e-05\nEpoch 3/15\n\u001b[1m718/718\u001b[0m \u001b[32m━━━━━━━━━━━━━━━━━━━━\u001b[0m\u001b[37m\u001b[0m \u001b[1m0s\u001b[0m 59ms/step - accuracy: 0.2516 - loss: 1.8226\nEpoch 3: val_accuracy did not improve from 0.24734\n\u001b[1m718/718\u001b[0m \u001b[32m━━━━━━━━━━━━━━━━━━━━\u001b[0m\u001b[37m\u001b[0m \u001b[1m50s\u001b[0m 70ms/step - accuracy: 0.2516 - loss: 1.8226 - val_accuracy: 0.2473 - val_loss: 1.8114 - learning_rate: 1.0000e-05\nEpoch 4/15\n\u001b[1m718/718\u001b[0m \u001b[32m━━━━━━━━━━━━━━━━━━━━\u001b[0m\u001b[37m\u001b[0m \u001b[1m0s\u001b[0m 59ms/step - accuracy: 0.2481 - loss: 1.8198\nEpoch 4: val_accuracy did not improve from 0.24734\n\u001b[1m718/718\u001b[0m \u001b[32m━━━━━━━━━━━━━━━━━━━━\u001b[0m\u001b[37m\u001b[0m \u001b[1m51s\u001b[0m 70ms/step - accuracy: 0.2481 - loss: 1.8198 - val_accuracy: 0.2473 - val_loss: 1.8117 - learning_rate: 1.0000e-05\nEpoch 5/15\n\u001b[1m718/718\u001b[0m \u001b[32m━━━━━━━━━━━━━━━━━━━━\u001b[0m\u001b[37m\u001b[0m \u001b[1m0s\u001b[0m 59ms/step - accuracy: 0.2499 - loss: 1.8167\nEpoch 5: val_accuracy did not improve from 0.24734\n\u001b[1m718/718\u001b[0m \u001b[32m━━━━━━━━━━━━━━━━━━━━\u001b[0m\u001b[37m\u001b[0m \u001b[1m50s\u001b[0m 70ms/step - accuracy: 0.2499 - loss: 1.8167 - val_accuracy: 0.2473 - val_loss: 1.8114 - learning_rate: 1.0000e-05\nEpoch 6/15\n\u001b[1m718/718\u001b[0m \u001b[32m━━━━━━━━━━━━━━━━━━━━\u001b[0m\u001b[37m\u001b[0m \u001b[1m0s\u001b[0m 59ms/step - accuracy: 0.2522 - loss: 1.8178\nEpoch 6: ReduceLROnPlateau reducing learning rate to 4.999999873689376e-06.\n\nEpoch 6: val_accuracy did not improve from 0.24734\n\u001b[1m718/718\u001b[0m \u001b[32m━━━━━━━━━━━━━━━━━━━━\u001b[0m\u001b[37m\u001b[0m \u001b[1m50s\u001b[0m 70ms/step - accuracy: 0.2522 - loss: 1.8179 - val_accuracy: 0.2473 - val_loss: 1.8120 - learning_rate: 1.0000e-05\nEpoch 7/15\n\u001b[1m718/718\u001b[0m \u001b[32m━━━━━━━━━━━━━━━━━━━━\u001b[0m\u001b[37m\u001b[0m \u001b[1m0s\u001b[0m 59ms/step - accuracy: 0.2471 - loss: 1.8207\nEpoch 7: val_accuracy did not improve from 0.24734\n\u001b[1m718/718\u001b[0m \u001b[32m━━━━━━━━━━━━━━━━━━━━\u001b[0m\u001b[37m\u001b[0m \u001b[1m50s\u001b[0m 70ms/step - accuracy: 0.2471 - loss: 1.8207 - val_accuracy: 0.2473 - val_loss: 1.8105 - learning_rate: 5.0000e-06\nEpoch 8/15\n\u001b[1m718/718\u001b[0m \u001b[32m━━━━━━━━━━━━━━━━━━━━\u001b[0m\u001b[37m\u001b[0m \u001b[1m0s\u001b[0m 59ms/step - accuracy: 0.2503 - loss: 1.8189\nEpoch 8: val_accuracy did not improve from 0.24734\n\u001b[1m718/718\u001b[0m \u001b[32m━━━━━━━━━━━━━━━━━━━━\u001b[0m\u001b[37m\u001b[0m \u001b[1m50s\u001b[0m 70ms/step - accuracy: 0.2503 - loss: 1.8189 - val_accuracy: 0.2473 - val_loss: 1.8109 - learning_rate: 5.0000e-06\nEpoch 8: early stopping\nRestoring model weights from the end of the best epoch: 1.\n",
          "output_type": "stream"
        }
      ],
      "execution_count": null
    },
    {
      "cell_type": "code",
      "source": [
        "import matplotlib.pyplot as plt\n",
        "\n",
        "# ✅ Evaluate on test dataset first\n",
        "scores = model.evaluate(test_ds, verbose=1)\n",
        "print(\"=\" * 50)\n",
        "print(f\"✅ Test Loss: {scores[0]:.4f}\")\n",
        "print(f\"✅ Test Accuracy: {scores[1] * 100:.2f}%\")\n",
        "print(\"=\" * 50)\n",
        "\n",
        "# ✅ Combine history from both phases (initial + fine-tuning)\n",
        "acc = history.history['accuracy'] + fine_tune_history.history['accuracy']\n",
        "val_acc = history.history['val_accuracy'] + fine_tune_history.history['val_accuracy']\n",
        "loss = history.history['loss'] + fine_tune_history.history['loss']\n",
        "val_loss = history.history['val_loss'] + fine_tune_history.history['val_loss']\n",
        "\n",
        "# ✅ Plot Accuracy and Loss\n",
        "plt.figure(figsize=(15, 5))\n",
        "plt.tight_layout()\n",
        "\n",
        "# ---- Accuracy Plot ----\n",
        "plt.subplot(1, 2, 1)\n",
        "plt.plot(acc, label='Training Accuracy')\n",
        "plt.plot(val_acc, label='Validation Accuracy')\n",
        "plt.axvline(x=len(history.history['accuracy']), color='r', linestyle='--', label='Fine-tuning Start')\n",
        "plt.title('Model Accuracy')\n",
        "plt.xlabel('Epoch')\n",
        "plt.ylabel('Accuracy')\n",
        "plt.legend()\n",
        "\n",
        "# ---- Loss Plot ----\n",
        "plt.subplot(1, 2, 2)\n",
        "plt.plot(loss, label='Training Loss')\n",
        "plt.plot(val_loss, label='Validation Loss')\n",
        "plt.axvline(x=len(history.history['loss']), color='r', linestyle='--', label='Fine-tuning Start')\n",
        "plt.title('Model Loss')\n",
        "plt.xlabel('Epoch')\n",
        "plt.ylabel('Loss')\n",
        "plt.legend()\n",
        "\n",
        "plt.show()\n"
      ],
      "metadata": {
        "colab": {
          "base_uri": "https://localhost:8080/"
        },
        "execution": {
          "iopub.status.busy": "2025-10-22T19:22:10.964853Z",
          "iopub.execute_input": "2025-10-22T19:22:10.965086Z",
          "execution_failed": "2025-10-22T19:25:04.843Z"
        },
        "id": "oQ6hzJ7VQQId",
        "outputId": "c356b01d-de4c-4644-df09-5dd8c293a642",
        "trusted": true
      },
      "outputs": [
        {
          "name": "stdout",
          "text": "\u001b[1m225/225\u001b[0m \u001b[32m━━━━━━━━━━━━━━━━━━━━\u001b[0m\u001b[37m\u001b[0m \u001b[1m0s\u001b[0m 67ms/step - accuracy: 0.2216 - loss: 1.8523",
          "output_type": "stream"
        }
      ],
      "execution_count": null
    },
    {
      "cell_type": "code",
      "source": [
        "import numpy as np\n",
        "for images_batch, labels_batch in test_ds.take(1):\n",
        "\n",
        "    first_image = images_batch[0].numpy().astype('uint8')\n",
        "    first_label = labels_batch[0].numpy()\n",
        "\n",
        "    print(\"first image to predict\")\n",
        "    plt.imshow(first_image)\n",
        "    print(\"actual label:\",class_name[first_label])\n"
      ],
      "metadata": {
        "execution": {
          "execution_failed": "2025-10-22T19:25:04.843Z"
        },
        "id": "vtVClgwUQQE3",
        "trusted": true
      },
      "outputs": [],
      "execution_count": null
    },
    {
      "cell_type": "code",
      "source": [
        "  for image_batch, labels_batch in test_ds.take(1):\n",
        "    first_image = image_batch[0].numpy().astype('uint8')\n",
        "    first_label = labels_batch[0].numpy()\n",
        "\n",
        "\n",
        "    plt.imshow(first_image)\n",
        "    print(\"First image actua Label:\",class_name[first_label])\n",
        "    batch_pre =model.predict(image_batch)\n",
        "    print(class_name[np.argmax(batch_pre[0])])"
      ],
      "metadata": {
        "execution": {
          "execution_failed": "2025-10-22T19:25:04.844Z"
        },
        "id": "Recl1dd7QQCR",
        "trusted": true
      },
      "outputs": [],
      "execution_count": null
    },
    {
      "cell_type": "code",
      "source": [
        "def predict(model, img):\n",
        "    img_array = tf.keras.preprocessing.image.img_to_array(img)\n",
        "    img_array = tf.expand_dims(img_array, 0)\n",
        "\n",
        "    predictions = model.predict(img_array, verbose=0)\n",
        "\n",
        "    predicted_class = class_name[np.argmax(predictions[0])]\n",
        "    confidence = round(100 * (np.max(predictions[0])), 2)\n",
        "    return predicted_class, confidence"
      ],
      "metadata": {
        "execution": {
          "execution_failed": "2025-10-22T19:25:04.844Z"
        },
        "id": "kcLgsjCOR-nh",
        "trusted": true
      },
      "outputs": [],
      "execution_count": null
    },
    {
      "cell_type": "code",
      "source": [
        "import matplotlib.pyplot as plt\n",
        "\n",
        "for images, labels in test_ds.take(1):\n",
        "    plt.figure(figsize=(15, 15))\n",
        "    for i in range(9):\n",
        "        ax = plt.subplot(3, 3, i + 1)\n",
        "        plt.imshow(images[i].numpy().astype('uint8'))\n",
        "\n",
        "        pre_class,confidence = predict(model,images[i].numpy())\n",
        "        actual_class = class_name[labels[i]]\n",
        "        plt.title(f\"Actual:{actual_class},\\n Predicted{pre_class},\\n Confidence{confidence}\")\n",
        "        plt.axis('off')\n"
      ],
      "metadata": {
        "execution": {
          "execution_failed": "2025-10-22T19:25:04.844Z"
        },
        "id": "YY0OOqdXR-kA",
        "trusted": true
      },
      "outputs": [],
      "execution_count": null
    },
    {
      "cell_type": "code",
      "source": [
        "import numpy as np\n",
        "import matplotlib.pyplot as plt\n",
        "import seaborn as sns\n",
        "from sklearn.metrics import confusion_matrix, classification_report\n",
        "\n",
        "# Generate predictions for confusion matrix\n",
        "y_true = []\n",
        "y_pred = []\n",
        "\n",
        "# Save the trained model\n",
        "model.save(\"Emotions_Detection.keras\")\n",
        "print(\"\\n✅ Model saved successfully as 'Emotions_Detection.keras'\")\n",
        "\n",
        "# Generate predictions on test dataset\n",
        "for images, labels in test_ds:\n",
        "    predictions = model.predict(images, verbose=0)\n",
        "    y_true.extend(labels.numpy())\n",
        "    y_pred.extend(np.argmax(predictions, axis=1))\n",
        "\n",
        "# Print classification report\n",
        "print(\"=\" * 60)\n",
        "print(\"\\n📊 Classification Report:\")\n",
        "print(classification_report(y_true, y_pred, target_names=class_name))\n",
        "\n",
        "# Plot confusion matrix\n",
        "cm = confusion_matrix(y_true, y_pred)\n",
        "\n",
        "plt.figure(figsize=(10, 8))\n",
        "sns.heatmap(\n",
        "    cm,\n",
        "    annot=True,\n",
        "    fmt='d',\n",
        "    cmap='Blues',\n",
        "    xticklabels=class_name,\n",
        "    yticklabels=class_name\n",
        ")\n",
        "plt.title('Confusion Matrix')\n",
        "plt.xlabel('Predicted Label')\n",
        "plt.ylabel('True Label')\n",
        "plt.tight_layout()\n",
        "plt.show()\n"
      ],
      "metadata": {
        "execution": {
          "execution_failed": "2025-10-22T19:25:04.844Z"
        },
        "trusted": true,
        "id": "CZiFnrB8D2Fc"
      },
      "outputs": [],
      "execution_count": null
    }
  ]
}